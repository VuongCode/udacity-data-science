{
 "cells": [
  {
   "cell_type": "markdown",
   "metadata": {},
   "source": [
    "# Test a Perceptual Phenomenon\n",
    "### _A Stroop Task_\n",
    "\n",
    "**1. What is our independent variable? What is our dependent variable?**<br>\n",
    "Independent variable: Word conditions (either congruent or incongruent)\n",
    "Dependent variable: Time it takes to name the ink colors in seconds\n",
    "\n",
    "**2. What is an appropriate set of hypotheses for this task? What kind of statistical test do you expect to perform? Justify your choices.**<br>\n",
    "Null hypothesis: Incongruent words do not affect reading speed<br>\n",
    "Alternative hypothesis: Incongruent words affect reading speed\n",
    "\n",
    "The mean difference in reading speed may or may not be significant. Therefore, a two-tailed t-test should be performed to analyze the dataset. This test is a paired test as each participant in this study has two data points; one for the congruent words and the other for the incongruent words.\n",
    "\n",
    "An alpha value of 0.05 will be used for this test. We reject the null hypothesis if the calculated probability falls below 0.05."
   ]
  },
  {
   "cell_type": "markdown",
   "metadata": {},
   "source": [
    "_The dataset was downloaded as a csv file from the google sheet provided. The following code serves to convert the dataset to a pandas dataframe to be used for analysis._"
   ]
  },
  {
   "cell_type": "code",
   "execution_count": 41,
   "metadata": {
    "collapsed": false
   },
   "outputs": [],
   "source": [
    "import numpy as np\n",
    "import pandas as pd\n",
    "import seaborn as sns\n",
    "from IPython.display import display\n",
    "import matplotlib.pyplot as plt\n",
    "from scipy import stats\n",
    "%matplotlib inline"
   ]
  },
  {
   "cell_type": "code",
   "execution_count": 34,
   "metadata": {
    "collapsed": false
   },
   "outputs": [
    {
     "data": {
      "text/html": [
       "<div>\n",
       "<table border=\"1\" class=\"dataframe\">\n",
       "  <thead>\n",
       "    <tr style=\"text-align: right;\">\n",
       "      <th></th>\n",
       "      <th>Congruent</th>\n",
       "      <th>Incongruent</th>\n",
       "    </tr>\n",
       "  </thead>\n",
       "  <tbody>\n",
       "    <tr>\n",
       "      <th>0</th>\n",
       "      <td>12.079</td>\n",
       "      <td>19.278</td>\n",
       "    </tr>\n",
       "    <tr>\n",
       "      <th>1</th>\n",
       "      <td>16.791</td>\n",
       "      <td>18.741</td>\n",
       "    </tr>\n",
       "    <tr>\n",
       "      <th>2</th>\n",
       "      <td>9.564</td>\n",
       "      <td>21.214</td>\n",
       "    </tr>\n",
       "    <tr>\n",
       "      <th>3</th>\n",
       "      <td>8.630</td>\n",
       "      <td>15.687</td>\n",
       "    </tr>\n",
       "    <tr>\n",
       "      <th>4</th>\n",
       "      <td>14.669</td>\n",
       "      <td>22.803</td>\n",
       "    </tr>\n",
       "  </tbody>\n",
       "</table>\n",
       "</div>"
      ],
      "text/plain": [
       "   Congruent  Incongruent\n",
       "0     12.079       19.278\n",
       "1     16.791       18.741\n",
       "2      9.564       21.214\n",
       "3      8.630       15.687\n",
       "4     14.669       22.803"
      ]
     },
     "metadata": {},
     "output_type": "display_data"
    }
   ],
   "source": [
    "# Convert stroop data to pandas dataframe\n",
    "data = pd.read_csv(\"stroopdata.csv\")\n",
    "display(data.head())"
   ]
  },
  {
   "cell_type": "markdown",
   "metadata": {},
   "source": [
    "**3. Report some descriptive statistics regarding this dataset. Include at least one measure of central tendency and at least one measure of variability.**"
   ]
  },
  {
   "cell_type": "code",
   "execution_count": 14,
   "metadata": {
    "collapsed": false
   },
   "outputs": [],
   "source": [
    "con_mean = data['Congruent'].mean()\n",
    "con_median = data['Congruent'].median()\n",
    "con_std = data['Congruent'].std()\n",
    "incon_mean = data['Incongruent'].mean()\n",
    "incon_median = data['Incongruent'].median()\n",
    "incon_std = data['Incongruent'].std()"
   ]
  },
  {
   "cell_type": "code",
   "execution_count": 67,
   "metadata": {
    "collapsed": false
   },
   "outputs": [
    {
     "name": "stdout",
     "output_type": "stream",
     "text": [
      "Measure of Central Tendency:\n",
      "Congruent Mean: 14.05\n",
      "Congruent Median: 14.36\n",
      "Incongruent Mean: 22.02\n",
      "Incongruent Median: 21.02\n"
     ]
    }
   ],
   "source": [
    "print(\"Measure of Central Tendency:\")\n",
    "print(\"Congruent Mean: \" + '%.2f' % con_mean)\n",
    "print(\"Congruent Median: \" + '%.2f' % con_median)\n",
    "print(\"Incongruent Mean: \" + '%.2f' % incon_mean)\n",
    "print(\"Incongruent Median: \" + '%.2f' % incon_median)"
   ]
  },
  {
   "cell_type": "code",
   "execution_count": 68,
   "metadata": {
    "collapsed": false
   },
   "outputs": [
    {
     "name": "stdout",
     "output_type": "stream",
     "text": [
      "Measure of Variability:\n",
      "Congruent Standard Deviation: 3.56\n",
      "Incongruent Standard Deviation: 4.80\n"
     ]
    }
   ],
   "source": [
    "print(\"Measure of Variability:\")\n",
    "print(\"Congruent Standard Deviation: \" + '%.2f' % con_std)\n",
    "print(\"Incongruent Standard Deviation: \" + '%.2f' % incon_std)"
   ]
  },
  {
   "cell_type": "markdown",
   "metadata": {},
   "source": [
    "**4. Provide one or two visualizations that show the distribution of the sample data. Write one or two sentences noting what you observe about the plot or plots.**"
   ]
  },
  {
   "cell_type": "code",
   "execution_count": 32,
   "metadata": {
    "collapsed": false
   },
   "outputs": [
    {
     "data": {
      "image/png": "[encoded data removed]",
      "text/plain": [
       "<matplotlib.figure.Figure at 0x118960b90>"
      ]
     },
     "metadata": {},
     "output_type": "display_data"
    }
   ],
   "source": [
    "sns.distplot(data['Congruent'], label=\"Congruent\");\n",
    "sns.distplot(data['Incongruent'], label=\"Incongruent\");\n",
    "plt.legend()\n",
    "plt.xlabel(\"Reading Speed (seconds)\")\n",
    "plt.ylabel(\"Frequency\")\n",
    "plt.show()"
   ]
  },
  {
   "cell_type": "markdown",
   "metadata": {},
   "source": [
    "The incongruent dataset is less normally distributed than the congruent dataset. However, the incongruent dataset seems to be skewed to the right due to one point to the far right of the distribution."
   ]
  },
  {
   "cell_type": "markdown",
   "metadata": {},
   "source": [
    "**5. Now, perform the statistical test and report your results. What is your confidence level and your critical statistic value? Do you reject the null hypothesis or fail to reject it? Come to a conclusion in terms of the experiment task. Did the results match up with your expectations?**<br>\n",
    "alpha = 0.05<br>\n",
    "dof = degrees of freedom = 23"
   ]
  },
  {
   "cell_type": "code",
   "execution_count": 66,
   "metadata": {
    "collapsed": false
   },
   "outputs": [
    {
     "name": "stdout",
     "output_type": "stream",
     "text": [
      "t_crit: -2.07 and 2.07\n",
      "confidence interval: [-10.02,-5.91]\n",
      "t statistic: -8.02\n",
      "pvalue (two-tailed): 4.10e-08\n"
     ]
    }
   ],
   "source": [
    "alpha = 0.05\n",
    "# Calculate degrees of freedom\n",
    "dof = len(data['Congruent']) - 1\n",
    "# add column for difference\n",
    "data['Diff'] = data['Congruent']-data['Incongruent']\n",
    "\n",
    "# Calculate mean and std for diff\n",
    "diff_mean = data['Diff'].mean()\n",
    "diff_std = data['Diff'].std()\n",
    "diff_stderr = diff_std/len(data['Congruent'])**0.5\n",
    "t_crit = stats.t.ppf(1-alpha/2, dof)\n",
    "lower = diff_mean - t_crit*diff_stderr\n",
    "upper = diff_mean + t_crit*diff_stderr\n",
    "t_stat = (diff_mean-0)/(diff_std/len(data['Congruent'])**0.5)\n",
    "pvalue = stats.t.sf(np.abs(t_stat), dof)*2\n",
    "print(\"t_crit: -\" + '%.2f' % t_crit + \" and \" + '%.2f' % t_crit)\n",
    "print('confidence interval: [' + '%.2f' % lower + ',' + '%.2f' % upper + ']')\n",
    "print('t statistic: ' + '%.2f' % t_stat)\n",
    "print('pvalue (two-tailed): ' + '%.2e' % pvalue)"
   ]
  },
  {
   "cell_type": "markdown",
   "metadata": {},
   "source": [
    "The absolute value of the t statistic is much higher than that of the t critical value. In addition, the 95% confidence interval falls outside of 0 which is the targeted value for the mean difference between the two samples. The calculated p-value is less than 0.05. For all the reasons mentioned, the **null hypothesis is rejected**. The results match our expectations of what the Stroop effect is meant to achieve; the congruency of color and words affects our perception."
   ]
  },
  {
   "cell_type": "markdown",
   "metadata": {},
   "source": [
    "**6. Optional: What do you think is responsible for the effects observed? Can you think of an alternative or similar task that would result in a similar effect? Some research about the problem will be helpful for thinking about these two questions!**<br>\n",
    "\n",
    "Our brains process data very fast and most of us create images and stories from what we read or see. Color has a more profound effect, sometimes stronger than text. For the test conducted, color may have been processed first for many of the participants and a lag time most likely occured to get the right answer.\n",
    "\n",
    "A similar task can be to match text with shapes. For instance, the word \"square\" will be inside a square, triangle, trapezoid, etc."
   ]
  },
  {
   "cell_type": "markdown",
   "metadata": {},
   "source": [
    "### **References**\n",
    "https://docs.scipy.org/doc/scipy-0.14.0/reference/generated/scipy.stats.t.html<br>\n",
    "https://faculty.washington.edu/chudler/java/ready.html"
   ]
  },
  {
   "cell_type": "code",
   "execution_count": null,
   "metadata": {
    "collapsed": true
   },
   "outputs": [],
   "source": []
  }
 ],
 "metadata": {
  "anaconda-cloud": {},
  "kernelspec": {
   "display_name": "Python [conda root]",
   "language": "python",
   "name": "conda-root-py"
  },
  "language_info": {
   "codemirror_mode": {
    "name": "ipython",
    "version": 2
   },
   "file_extension": ".py",
   "mimetype": "text/x-python",
   "name": "python",
   "nbconvert_exporter": "python",
   "pygments_lexer": "ipython2",
   "version": "2.7.12"
  }
 },
 "nbformat": 4,
 "nbformat_minor": 1
}
